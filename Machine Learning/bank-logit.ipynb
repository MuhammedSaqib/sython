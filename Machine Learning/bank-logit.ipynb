{
 "cells": [
  {
   "cell_type": "code",
   "execution_count": 1,
   "metadata": {
    "collapsed": false
   },
   "outputs": [],
   "source": [
    "#Author  Muhammad Saqib\n",
    "#Licence GPL\n",
    "\n",
    "\n",
    "import pandas as pd\n",
    "import numpy as np\n",
    "import matplotlib.pyplot as plt\n",
    "from sklearn import linear_model, datasets , cross_validation ,metrics\n",
    "\n",
    "\n",
    "# Test Data\n",
    "df1=pd.read_csv('data/bank.csv',sep=';');\n",
    "\n",
    "df1=df1.replace(['unknown', 'no', 'yes'], \n",
    "                     [-1,0,1]) \n",
    "\n",
    "df1=df1.replace(['admin.','blue-collar','entrepreneur','housemaid','management','retired','self-employed','services',\n",
    "               'student','technician','unemployed','unknown'],\n",
    "              [1,2,3,4,5,6,7,8,9,10,11,-1])\n",
    "\n",
    "df1=df1.replace(['divorced','married','single','unknown'],[1,2,3,-1])\n",
    "\n",
    "df1=df1.replace(['unknown','secondary','primary','tertiary'],[-1,1,2,3])\n",
    "\n",
    "df1=df1.replace(['unknown','failure','success','other'],[-1,0,1,2])\n",
    "\n",
    "df1=df1.replace(['jan','feb', 'mar','apr','may','jun','jul','aug','sep','oct', 'nov', 'dec'],\n",
    "              [1 , 2 , 3 , 4 , 5 , 6 , 7 , 8 , 9 , 10 , 11 ,12])\n",
    "\n",
    "\n",
    "df1=df1.replace(['unknown','telephone','cellular'],[-1, 1 ,2 ] )\n",
    "\n",
    "df1['intercept']=1.0\n",
    "X_test = df1[['intercept','age','job','marital','education', 'default','balance','housing','loan','contact','day','month',\n",
    "     'duration','campaign','pdays','previous','poutcome']]\n",
    "\n",
    "y_test = df1['y'].values\n",
    "\n",
    "#Train Data\n",
    "df2=pd.read_csv('data/bank-full.csv',sep=';');\n",
    "\n",
    "df2=df2.replace(['unknown', 'no', 'yes'], \n",
    "                     [-1,0,1]) \n",
    "\n",
    "df2=df2.replace(['admin.','blue-collar','entrepreneur','housemaid','management','retired','self-employed','services',\n",
    "               'student','technician','unemployed','unknown'],\n",
    "              [1,2,3,4,5,6,7,8,9,10,11,-1])\n",
    "\n",
    "df2=df2.replace(['divorced','married','single','unknown'],[1,2,3,-1])\n",
    "\n",
    "df2=df2.replace(['unknown','secondary','primary','tertiary'],[-1,1,2,3])\n",
    "\n",
    "df2=df2.replace(['unknown','failure','success','other'],[-1,0,1,2])\n",
    "\n",
    "df2=df2.replace(['jan','feb', 'mar','apr','may','jun','jul','aug','sep','oct', 'nov', 'dec'],\n",
    "              [1 , 2 , 3 , 4 , 5 , 6 , 7 , 8 , 9 , 10 , 11 ,12])\n",
    "\n",
    "df2=df2.replace(['unknown','telephone','cellular'],[-1, 1 ,2 ] )\n",
    "\n",
    "df2['intercept']=1.0\n",
    "\n",
    "X_train = df2[['intercept','age','job','marital','education', 'default','balance','housing','loan','contact','day','month',\n",
    "     'duration','campaign','pdays','previous','poutcome']]\n",
    "\n",
    "y_train = df2['y'].values\n"
   ]
  },
  {
   "cell_type": "code",
   "execution_count": 2,
   "metadata": {
    "collapsed": false
   },
   "outputs": [
    {
     "name": "stdout",
     "output_type": "stream",
     "text": [
      "The model accuracy is: 0.8894 \n"
     ]
    }
   ],
   "source": [
    "#Using Logistic Regression for prediction\n",
    "\n",
    "h = 0.02  # step size in the mesh\n",
    "logreg = linear_model.LogisticRegression()\n",
    "\n",
    "\n",
    "logreg.fit(X_train, y_train)\n",
    "\n",
    "print('The model accuracy is: %0.4f '%logreg.score(X_test, y_test))\n",
    "\n",
    "\n",
    "#print logreg.predict(X_test.iloc[[210]])"
   ]
  },
  {
   "cell_type": "code",
   "execution_count": null,
   "metadata": {
    "collapsed": true
   },
   "outputs": [],
   "source": []
  }
 ],
 "metadata": {
  "kernelspec": {
   "display_name": "Python 2",
   "language": "python",
   "name": "python2"
  },
  "language_info": {
   "codemirror_mode": {
    "name": "ipython",
    "version": 2
   },
   "file_extension": ".py",
   "mimetype": "text/x-python",
   "name": "python",
   "nbconvert_exporter": "python",
   "pygments_lexer": "ipython2",
   "version": "2.7.10"
  }
 },
 "nbformat": 4,
 "nbformat_minor": 0
}
